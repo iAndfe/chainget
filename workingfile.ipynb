{
 "cells": [
  {
   "cell_type": "code",
   "execution_count": 6,
   "metadata": {},
   "outputs": [],
   "source": [
    "# Iterative algorithm using Breadth-First Search\n",
    "\n",
    "from chaintools import meta_chainget\n",
    "import pandas as pd\n",
    "\n",
    "# Number of decimal points\n",
    "precision = 7\n",
    "\n",
    "road = pd.read_csv('road.csv')\n",
    "points = pd.read_csv('points.csv')\n",
    "\n",
    "points = meta_chainget(road, points, precision)\n",
    "points.to_csv('points_processed.csv')\n"
   ]
  },
  {
   "cell_type": "code",
   "execution_count": 7,
   "metadata": {},
   "outputs": [],
   "source": [
    "# Only one iteration\n",
    "\n",
    "import pandas as pd\n",
    "from chaintools import dividechain\n",
    "from chaintools import chainget\n",
    "\n",
    "road = pd.read_csv('road.csv')\n",
    "points = pd.read_csv('points.csv')\n",
    "\n",
    "chain = dividechain(road, 0.01)\n",
    "points_processed = chainget(chain, points)\n",
    "\n",
    "points_processed.to_csv('points_processed_1_iteration.csv')"
   ]
  }
 ],
 "metadata": {
  "interpreter": {
   "hash": "fea4d8e4aef9fc66d2faeb494b11e55781f77f3e587f78774b36754a6f382a54"
  },
  "kernelspec": {
   "display_name": "Python 3.10.2 ('env')",
   "language": "python",
   "name": "python3"
  },
  "language_info": {
   "codemirror_mode": {
    "name": "ipython",
    "version": 3
   },
   "file_extension": ".py",
   "mimetype": "text/x-python",
   "name": "python",
   "nbconvert_exporter": "python",
   "pygments_lexer": "ipython3",
   "version": "3.10.2"
  },
  "orig_nbformat": 4
 },
 "nbformat": 4,
 "nbformat_minor": 2
}
