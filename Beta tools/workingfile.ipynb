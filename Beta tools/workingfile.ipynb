{
 "cells": [
  {
   "cell_type": "code",
   "execution_count": null,
   "metadata": {},
   "outputs": [],
   "source": [
    "# Iterative algorithm using Breadth-First Search\n",
    "\n",
    "from chaintools import meta_chainget\n",
    "import pandas as pd\n",
    "\n",
    "# Number of decimal points\n",
    "precision = 7\n",
    "\n",
    "road = pd.read_csv('road.csv')\n",
    "points = pd.read_csv('points.csv')\n",
    "\n",
    "points = meta_chainget(road, points, precision)\n",
    "points.to_csv('points_processed.csv')\n"
   ]
  },
  {
   "cell_type": "code",
   "execution_count": 7,
   "metadata": {},
   "outputs": [
    {
     "name": "stdout",
     "output_type": "stream",
     "text": [
      "...Saved to pdf\n"
     ]
    },
    {
     "data": {
      "image/png": "[encoded data removed]",
      "text/plain": [
       "<Figure size 432x288 with 1 Axes>"
      ]
     },
     "metadata": {
      "needs_background": "light"
     },
     "output_type": "display_data"
    }
   ],
   "source": [
    "# Only one iteration\n",
    "\n",
    "import pandas as pd\n",
    "from chaintools import dividechain\n",
    "from chaintools import chainget\n",
    "from chaintools import plot_points\n",
    "\n",
    "road = pd.read_csv('road.xlsx')\n",
    "points = pd.read_csv('points.xlsx')\n",
    "\n",
    "chain = dividechain(road, precision = 0.1)\n",
    "points_processed = chainget(chain, points)\n",
    "points_processed.to_excel('points_processed_1_iteration.csv')\n",
    "\n",
    "plot_points(points, road, limit = 50)"
   ]
  }
 ],
 "metadata": {
  "interpreter": {
   "hash": "cb09f78110704961541167d3be9016f9ecd863ef8b983a9895d3afe98400bb82"
  },
  "kernelspec": {
   "display_name": "Python 3.10.5 ('env')",
   "language": "python",
   "name": "python3"
  },
  "language_info": {
   "codemirror_mode": {
    "name": "ipython",
    "version": 3
   },
   "file_extension": ".py",
   "mimetype": "text/x-python",
   "name": "python",
   "nbconvert_exporter": "python",
   "pygments_lexer": "ipython3",
   "version": "3.10.5"
  },
  "orig_nbformat": 4
 },
 "nbformat": 4,
 "nbformat_minor": 2
}
